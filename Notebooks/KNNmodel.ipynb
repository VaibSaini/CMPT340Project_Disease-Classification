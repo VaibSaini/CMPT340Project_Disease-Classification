{
 "cells": [
  {
   "cell_type": "markdown",
   "id": "249f33c2",
   "metadata": {
    "colab_type": "text",
    "id": "view-in-github"
   },
   "source": [
    "<a href=\"https://colab.research.google.com/github/P-Sood/CMPT_340/blob/master/Machine_Learning_on_Dataset.ipynb\" target=\"_parent\"><img src=\"https://colab.research.google.com/assets/colab-badge.svg\" alt=\"Open In Colab\"/></a>"
   ]
  },
  {
   "cell_type": "code",
   "execution_count": 2,
   "id": "3bcef941",
   "metadata": {
    "id": "developing-maryland"
   },
   "outputs": [],
   "source": [
    "import librosa\n",
    "from scipy.fftpack import fft\n",
    "from scipy.io import wavfile as wav\n",
    "import IPython.display as ipd\n",
    "import matplotlib.pyplot as plt\n",
    "from librosa import display\n",
    "import numpy as np\n",
    "import soundfile as sf\n",
    "import sklearn\n",
    "import pandas as pd\n",
    "import wave, os, glob\n",
    "#from google.colab import drive\n",
    "\n",
    "#model stuff\n",
    "\n",
    "from sklearn.model_selection import train_test_split\n",
    "from sklearn.preprocessing import StandardScaler\n",
    "from sklearn.decomposition import PCA\n",
    "from sklearn.neighbors import KNeighborsClassifier\n",
    "from sklearn.model_selection import GridSearchCV\n",
    "from sklearn.metrics import confusion_matrix"
   ]
  },
  {
   "cell_type": "markdown",
   "id": "3692b5ac",
   "metadata": {},
   "source": [
    "Read processed data"
   ]
  },
  {
   "cell_type": "code",
   "execution_count": 3,
   "id": "15711db1",
   "metadata": {},
   "outputs": [],
   "source": [
    "audio_files = pd.read_feather('processed_data.ftr')"
   ]
  },
  {
   "cell_type": "code",
   "execution_count": 146,
   "id": "a431d999",
   "metadata": {},
   "outputs": [
    {
     "data": {
      "text/html": [
       "<div>\n",
       "<style scoped>\n",
       "    .dataframe tbody tr th:only-of-type {\n",
       "        vertical-align: middle;\n",
       "    }\n",
       "\n",
       "    .dataframe tbody tr th {\n",
       "        vertical-align: top;\n",
       "    }\n",
       "\n",
       "    .dataframe thead th {\n",
       "        text-align: right;\n",
       "    }\n",
       "</style>\n",
       "<table border=\"1\" class=\"dataframe\">\n",
       "  <thead>\n",
       "    <tr style=\"text-align: right;\">\n",
       "      <th></th>\n",
       "      <th>audio_filenames</th>\n",
       "      <th>audio_file_value</th>\n",
       "      <th>sr_value</th>\n",
       "      <th>id</th>\n",
       "      <th>diagnosis</th>\n",
       "      <th>zero_crossings</th>\n",
       "      <th>centroid_shape</th>\n",
       "      <th>mfcc</th>\n",
       "      <th>mfcc_test</th>\n",
       "    </tr>\n",
       "  </thead>\n",
       "  <tbody>\n",
       "    <tr>\n",
       "      <th>0</th>\n",
       "      <td>160_1b3_Lr_mc_AKGC417L.wav</td>\n",
       "      <td>[0.0, 0.0, 0.0, 0.0, 0.0, 0.0, 0.0, 0.0, 0.0, ...</td>\n",
       "      <td>22050</td>\n",
       "      <td>160</td>\n",
       "      <td>COPD</td>\n",
       "      <td>1299</td>\n",
       "      <td>862</td>\n",
       "      <td>[-350.52658, 97.11206, 77.11829, 56.521164, 39...</td>\n",
       "      <td>[[-350.52658, 97.11206, 77.11829, 56.521164, 3...</td>\n",
       "    </tr>\n",
       "    <tr>\n",
       "      <th>1</th>\n",
       "      <td>160_1b3_Ar_mc_AKGC417L.wav</td>\n",
       "      <td>[0.0, 0.0, 0.0, 0.0, 0.0, 0.0, 0.0, 0.0, 0.0, ...</td>\n",
       "      <td>22050</td>\n",
       "      <td>160</td>\n",
       "      <td>COPD</td>\n",
       "      <td>1204</td>\n",
       "      <td>862</td>\n",
       "      <td>[-353.91608, 105.378716, 66.86251, 36.976192, ...</td>\n",
       "      <td>[[-350.52658, 97.11206, 77.11829, 56.521164, 3...</td>\n",
       "    </tr>\n",
       "    <tr>\n",
       "      <th>2</th>\n",
       "      <td>160_1b4_Ar_mc_AKGC417L.wav</td>\n",
       "      <td>[0.0, 0.0, 0.0, 0.0, 0.0, 0.0, 0.0, 0.0, 0.0, ...</td>\n",
       "      <td>22050</td>\n",
       "      <td>160</td>\n",
       "      <td>COPD</td>\n",
       "      <td>1220</td>\n",
       "      <td>862</td>\n",
       "      <td>[-361.01898, 102.194885, 67.656265, 39.815247,...</td>\n",
       "      <td>[[-350.52658, 97.11206, 77.11829, 56.521164, 3...</td>\n",
       "    </tr>\n",
       "    <tr>\n",
       "      <th>3</th>\n",
       "      <td>160_1b3_Al_mc_AKGC417L.wav</td>\n",
       "      <td>[0.0, 0.0, 0.0, 0.0, 0.0, 0.0, 0.0, 0.0, 0.0, ...</td>\n",
       "      <td>22050</td>\n",
       "      <td>160</td>\n",
       "      <td>COPD</td>\n",
       "      <td>1462</td>\n",
       "      <td>862</td>\n",
       "      <td>[-353.2109, 111.86306, 62.016647, 30.860592, 2...</td>\n",
       "      <td>[[-350.52658, 97.11206, 77.11829, 56.521164, 3...</td>\n",
       "    </tr>\n",
       "    <tr>\n",
       "      <th>4</th>\n",
       "      <td>160_1b3_Pl_mc_AKGC417L.wav</td>\n",
       "      <td>[0.0, 0.0, 0.0, 0.0, 0.0, 0.0, 0.0, 0.0, 0.0, ...</td>\n",
       "      <td>22050</td>\n",
       "      <td>160</td>\n",
       "      <td>COPD</td>\n",
       "      <td>1965</td>\n",
       "      <td>862</td>\n",
       "      <td>[-388.67877, 104.72161, 50.316544, 44.476036, ...</td>\n",
       "      <td>[[-350.52658, 97.11206, 77.11829, 56.521164, 3...</td>\n",
       "    </tr>\n",
       "    <tr>\n",
       "      <th>...</th>\n",
       "      <td>...</td>\n",
       "      <td>...</td>\n",
       "      <td>...</td>\n",
       "      <td>...</td>\n",
       "      <td>...</td>\n",
       "      <td>...</td>\n",
       "      <td>...</td>\n",
       "      <td>...</td>\n",
       "      <td>...</td>\n",
       "    </tr>\n",
       "    <tr>\n",
       "      <th>819</th>\n",
       "      <td>158_2p3_Tc_mc_AKGC417L.wav</td>\n",
       "      <td>[0.0, 0.0, 0.0, 0.0, 0.0, 0.0, 0.0, 0.0, 0.0, ...</td>\n",
       "      <td>22050</td>\n",
       "      <td>158</td>\n",
       "      <td>COPD</td>\n",
       "      <td>3903</td>\n",
       "      <td>862</td>\n",
       "      <td>[-291.69412, 178.60034, 64.846825, 20.628065, ...</td>\n",
       "      <td>[[-350.52658, 97.11206, 77.11829, 56.521164, 3...</td>\n",
       "    </tr>\n",
       "    <tr>\n",
       "      <th>820</th>\n",
       "      <td>159_1b1_Al_sc_Meditron.wav</td>\n",
       "      <td>[-0.025988655, -0.03821215, -0.034843512, -0.0...</td>\n",
       "      <td>22050</td>\n",
       "      <td>159</td>\n",
       "      <td>Healthy</td>\n",
       "      <td>1043</td>\n",
       "      <td>862</td>\n",
       "      <td>[-502.19714, 100.08977, 60.156837, 32.24981, 3...</td>\n",
       "      <td>[[-350.52658, 97.11206, 77.11829, 56.521164, 3...</td>\n",
       "    </tr>\n",
       "    <tr>\n",
       "      <th>821</th>\n",
       "      <td>159_1b1_Ar_sc_Meditron.wav</td>\n",
       "      <td>[-0.011496379, -0.017114853, -0.015914291, -0....</td>\n",
       "      <td>22050</td>\n",
       "      <td>159</td>\n",
       "      <td>Healthy</td>\n",
       "      <td>2619</td>\n",
       "      <td>862</td>\n",
       "      <td>[-523.9675, 103.453285, 59.174797, 24.453245, ...</td>\n",
       "      <td>[[-350.52658, 97.11206, 77.11829, 56.521164, 3...</td>\n",
       "    </tr>\n",
       "    <tr>\n",
       "      <th>822</th>\n",
       "      <td>159_1b1_Ll_sc_Meditron.wav</td>\n",
       "      <td>[0.05606284, 0.0816527, 0.0717218, 0.077194825...</td>\n",
       "      <td>22050</td>\n",
       "      <td>159</td>\n",
       "      <td>Healthy</td>\n",
       "      <td>951</td>\n",
       "      <td>862</td>\n",
       "      <td>[-452.36978, 92.2598, 57.190403, 36.30714, 31....</td>\n",
       "      <td>[[-350.52658, 97.11206, 77.11829, 56.521164, 3...</td>\n",
       "    </tr>\n",
       "    <tr>\n",
       "      <th>823</th>\n",
       "      <td>159_1b1_Pr_sc_Meditron.wav</td>\n",
       "      <td>[-0.023203375, -0.034763936, -0.030409338, -0....</td>\n",
       "      <td>22050</td>\n",
       "      <td>159</td>\n",
       "      <td>Healthy</td>\n",
       "      <td>1233</td>\n",
       "      <td>862</td>\n",
       "      <td>[-515.38086, 78.528366, 59.64572, 41.68528, 40...</td>\n",
       "      <td>[[-350.52658, 97.11206, 77.11829, 56.521164, 3...</td>\n",
       "    </tr>\n",
       "  </tbody>\n",
       "</table>\n",
       "<p>824 rows × 9 columns</p>\n",
       "</div>"
      ],
      "text/plain": [
       "                audio_filenames  \\\n",
       "0    160_1b3_Lr_mc_AKGC417L.wav   \n",
       "1    160_1b3_Ar_mc_AKGC417L.wav   \n",
       "2    160_1b4_Ar_mc_AKGC417L.wav   \n",
       "3    160_1b3_Al_mc_AKGC417L.wav   \n",
       "4    160_1b3_Pl_mc_AKGC417L.wav   \n",
       "..                          ...   \n",
       "819  158_2p3_Tc_mc_AKGC417L.wav   \n",
       "820  159_1b1_Al_sc_Meditron.wav   \n",
       "821  159_1b1_Ar_sc_Meditron.wav   \n",
       "822  159_1b1_Ll_sc_Meditron.wav   \n",
       "823  159_1b1_Pr_sc_Meditron.wav   \n",
       "\n",
       "                                      audio_file_value  sr_value   id  \\\n",
       "0    [0.0, 0.0, 0.0, 0.0, 0.0, 0.0, 0.0, 0.0, 0.0, ...     22050  160   \n",
       "1    [0.0, 0.0, 0.0, 0.0, 0.0, 0.0, 0.0, 0.0, 0.0, ...     22050  160   \n",
       "2    [0.0, 0.0, 0.0, 0.0, 0.0, 0.0, 0.0, 0.0, 0.0, ...     22050  160   \n",
       "3    [0.0, 0.0, 0.0, 0.0, 0.0, 0.0, 0.0, 0.0, 0.0, ...     22050  160   \n",
       "4    [0.0, 0.0, 0.0, 0.0, 0.0, 0.0, 0.0, 0.0, 0.0, ...     22050  160   \n",
       "..                                                 ...       ...  ...   \n",
       "819  [0.0, 0.0, 0.0, 0.0, 0.0, 0.0, 0.0, 0.0, 0.0, ...     22050  158   \n",
       "820  [-0.025988655, -0.03821215, -0.034843512, -0.0...     22050  159   \n",
       "821  [-0.011496379, -0.017114853, -0.015914291, -0....     22050  159   \n",
       "822  [0.05606284, 0.0816527, 0.0717218, 0.077194825...     22050  159   \n",
       "823  [-0.023203375, -0.034763936, -0.030409338, -0....     22050  159   \n",
       "\n",
       "    diagnosis  zero_crossings  centroid_shape  \\\n",
       "0        COPD            1299             862   \n",
       "1        COPD            1204             862   \n",
       "2        COPD            1220             862   \n",
       "3        COPD            1462             862   \n",
       "4        COPD            1965             862   \n",
       "..        ...             ...             ...   \n",
       "819      COPD            3903             862   \n",
       "820   Healthy            1043             862   \n",
       "821   Healthy            2619             862   \n",
       "822   Healthy             951             862   \n",
       "823   Healthy            1233             862   \n",
       "\n",
       "                                                  mfcc  \\\n",
       "0    [-350.52658, 97.11206, 77.11829, 56.521164, 39...   \n",
       "1    [-353.91608, 105.378716, 66.86251, 36.976192, ...   \n",
       "2    [-361.01898, 102.194885, 67.656265, 39.815247,...   \n",
       "3    [-353.2109, 111.86306, 62.016647, 30.860592, 2...   \n",
       "4    [-388.67877, 104.72161, 50.316544, 44.476036, ...   \n",
       "..                                                 ...   \n",
       "819  [-291.69412, 178.60034, 64.846825, 20.628065, ...   \n",
       "820  [-502.19714, 100.08977, 60.156837, 32.24981, 3...   \n",
       "821  [-523.9675, 103.453285, 59.174797, 24.453245, ...   \n",
       "822  [-452.36978, 92.2598, 57.190403, 36.30714, 31....   \n",
       "823  [-515.38086, 78.528366, 59.64572, 41.68528, 40...   \n",
       "\n",
       "                                             mfcc_test  \n",
       "0    [[-350.52658, 97.11206, 77.11829, 56.521164, 3...  \n",
       "1    [[-350.52658, 97.11206, 77.11829, 56.521164, 3...  \n",
       "2    [[-350.52658, 97.11206, 77.11829, 56.521164, 3...  \n",
       "3    [[-350.52658, 97.11206, 77.11829, 56.521164, 3...  \n",
       "4    [[-350.52658, 97.11206, 77.11829, 56.521164, 3...  \n",
       "..                                                 ...  \n",
       "819  [[-350.52658, 97.11206, 77.11829, 56.521164, 3...  \n",
       "820  [[-350.52658, 97.11206, 77.11829, 56.521164, 3...  \n",
       "821  [[-350.52658, 97.11206, 77.11829, 56.521164, 3...  \n",
       "822  [[-350.52658, 97.11206, 77.11829, 56.521164, 3...  \n",
       "823  [[-350.52658, 97.11206, 77.11829, 56.521164, 3...  \n",
       "\n",
       "[824 rows x 9 columns]"
      ]
     },
     "execution_count": 146,
     "metadata": {},
     "output_type": "execute_result"
    }
   ],
   "source": [
    "audio_files"
   ]
  },
  {
   "cell_type": "markdown",
   "id": "90f4cb18",
   "metadata": {
    "id": "LSEITNQQfyCr"
   },
   "source": [
    "# Working on ML model"
   ]
  },
  {
   "cell_type": "code",
   "execution_count": 126,
   "id": "926ba42d",
   "metadata": {},
   "outputs": [],
   "source": [
    "mfcc_data = []"
   ]
  },
  {
   "cell_type": "markdown",
   "id": "07d6d27f",
   "metadata": {},
   "source": [
    "Functions to calculate Mel-frequency cepstral coefficients (MFCCs) of audio signals using audiofile values. the function get_mfcc appends mean mfcc data for each audio to the mfcc_data dictionary for easy convertion"
   ]
  },
  {
   "cell_type": "code",
   "execution_count": 127,
   "id": "c4e7626a",
   "metadata": {},
   "outputs": [],
   "source": [
    "def mean_mfcc(x):\n",
    "    return [np.mean(feature) for feature in librosa.feature.mfcc(x)]\n",
    "\n",
    "def get_mfcc(x):\n",
    "    mfcc_data.append(mean_mfcc(x))"
   ]
  },
  {
   "cell_type": "code",
   "execution_count": 128,
   "id": "aac8ebde",
   "metadata": {},
   "outputs": [],
   "source": [
    "%%capture\n",
    "audio_files['audio_file_value'].apply(get_mfcc)"
   ]
  },
  {
   "cell_type": "markdown",
   "id": "79186994",
   "metadata": {},
   "source": [
    "Set X and y for the model "
   ]
  },
  {
   "cell_type": "code",
   "execution_count": 117,
   "id": "e4234bf6",
   "metadata": {},
   "outputs": [],
   "source": [
    "X = np.array(mfcc_data)\n",
    "y = audio_files['diagnosis'].values"
   ]
  },
  {
   "cell_type": "code",
   "execution_count": 118,
   "id": "c3183cfb",
   "metadata": {},
   "outputs": [],
   "source": [
    "x_train, x_valid, y_train, y_valid = train_test_split(X, y)"
   ]
  },
  {
   "cell_type": "markdown",
   "id": "edc71d9f",
   "metadata": {},
   "source": [
    "Applying PCA on mean MFCC data for noise reduction"
   ]
  },
  {
   "cell_type": "code",
   "execution_count": 119,
   "id": "91cb983f",
   "metadata": {},
   "outputs": [
    {
     "data": {
      "image/png": "[encoded data removed]",
      "text/plain": [
       "<Figure size 432x288 with 1 Axes>"
      ]
     },
     "metadata": {
      "needs_background": "light"
     },
     "output_type": "display_data"
    }
   ],
   "source": [
    "scaler = StandardScaler()\n",
    "scaler.fit(x_train)\n",
    "x_train_scaled = scaler.transform(x_train)\n",
    "x_test_scaled = scaler.transform(x_valid)\n",
    "\n",
    "pca = PCA().fit(x_train)\n",
    "\n",
    "plt.plot(np.cumsum(pca.explained_variance_ratio_))\n",
    "plt.xlabel('Number of Components')\n",
    "plt.ylabel('Variance (%)')\n",
    "plt.show()"
   ]
  },
  {
   "cell_type": "markdown",
   "id": "665ca0b9",
   "metadata": {},
   "source": [
    "Setting adapting parameters for the model by using GridSearchCV with KNN to emphasize accuracy "
   ]
  },
  {
   "cell_type": "code",
   "execution_count": 132,
   "id": "795b7331",
   "metadata": {},
   "outputs": [
    {
     "name": "stderr",
     "output_type": "stream",
     "text": [
      "D:\\Users\\vaibh\\anaconda3\\lib\\site-packages\\sklearn\\model_selection\\_split.py:666: UserWarning: The least populated class in y has only 1 members, which is less than n_splits=5.\n",
      "  warnings.warn((\"The least populated class in y has only %d\"\n"
     ]
    },
    {
     "data": {
      "text/plain": [
       "GridSearchCV(cv=5, estimator=KNeighborsClassifier(), n_jobs=-1,\n",
       "             param_grid={'metric': ['euclidean', 'manhattan'],\n",
       "                         'n_neighbors': [3, 4, 5, 6, 7, 8, 9, 10, 11, 12, 13,\n",
       "                                         14, 15, 16, 17, 18, 19, 20],\n",
       "                         'weights': ['uniform', 'distance']},\n",
       "             scoring='accuracy')"
      ]
     },
     "execution_count": 132,
     "metadata": {},
     "output_type": "execute_result"
    }
   ],
   "source": [
    "k_range = list(range(3,21))\n",
    "param_grid = {\n",
    "    'n_neighbors': k_range,\n",
    "    'weights': ['uniform', 'distance'],\n",
    "    'metric': ['euclidean', 'manhattan']\n",
    "}\n",
    "\n",
    "model = GridSearchCV(KNeighborsClassifier(), param_grid, cv=5, n_jobs=-1, scoring='accuracy')\n",
    "model.fit(x_train_scaled, y_train)"
   ]
  },
  {
   "cell_type": "code",
   "execution_count": 133,
   "id": "4dfda571",
   "metadata": {},
   "outputs": [
    {
     "name": "stdout",
     "output_type": "stream",
     "text": [
      "Model Score: 0.8737864077669902\n",
      "Confusion Matrix: \n",
      "[[  2   1   0   0   0   0]\n",
      " [  0   0   0   0   0   0]\n",
      " [  2   1 167   3   4   3]\n",
      " [  0   0   1   5   1   3]\n",
      " [  0   1   3   0   6   1]\n",
      " [  0   2   0   0   0   0]]\n"
     ]
    }
   ],
   "source": [
    "print(f'Model Score: {model.score(x_test_scaled, y_valid)}')\n",
    "\n",
    "y_predict = model.predict(x_test_scaled)\n",
    "print(f'Confusion Matrix: \\n{confusion_matrix(y_predict, y_valid)}')"
   ]
  }
 ],
 "metadata": {
  "colab": {
   "collapsed_sections": [
    "vr5vpvAXew85"
   ],
   "include_colab_link": true,
   "name": "Machine Learning on Dataset.ipynb",
   "provenance": []
  },
  "interpreter": {
   "hash": "75dcd50477f7ae197176245d92ce3a225ad3191090c72e6f028db34c6a8aefe9"
  },
  "kernelspec": {
   "display_name": "Python 3",
   "language": "python",
   "name": "python3"
  },
  "language_info": {
   "codemirror_mode": {
    "name": "ipython",
    "version": 3
   },
   "file_extension": ".py",
   "mimetype": "text/x-python",
   "name": "python",
   "nbconvert_exporter": "python",
   "pygments_lexer": "ipython3",
   "version": "3.8.10"
  }
 },
 "nbformat": 4,
 "nbformat_minor": 5
}
