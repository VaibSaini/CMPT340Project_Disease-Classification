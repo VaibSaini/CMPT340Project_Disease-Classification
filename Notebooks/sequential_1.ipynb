{
  "nbformat": 4,
  "nbformat_minor": 0,
  "metadata": {
    "colab": {
      "name": "sequential-1.ipynb",
      "provenance": []
    },
    "kernelspec": {
      "name": "python3",
      "display_name": "Python 3"
    },
    "language_info": {
      "name": "python"
    }
  },
  "cells": [
    {
      "cell_type": "code",
      "metadata": {
        "id": "ufo7A8DqUqpP"
      },
      "source": [
        "!pip install split-folders"
      ],
      "execution_count": null,
      "outputs": []
    },
    {
      "cell_type": "code",
      "metadata": {
        "id": "s42y-42P2nQu"
      },
      "source": [
        "import feather\n",
        "import pandas as pd\n",
        "import numpy as np\n",
        "from numpy import argmax\n",
        "import matplotlib.pyplot as plt\n",
        "\n",
        "import wave, os, glob\n",
        "%matplotlib inline\n",
        "\n",
        "import librosa\n",
        "import librosa.display\n",
        "import IPython.display\n",
        "import random\n",
        "import warnings\n",
        "import os\n",
        "from PIL import Image\n",
        "import pathlib\n",
        "import csv\n",
        "# sklearn Preprocessing\n",
        "from sklearn.model_selection import train_test_split\n",
        "#Keras\n",
        "import keras\n",
        "import warnings\n",
        "warnings.filterwarnings('ignore')\n",
        "from keras import layers\n",
        "from keras.layers import Activation, Dense, Dropout, Conv2D, Flatten, MaxPooling2D, GlobalMaxPooling2D, GlobalAveragePooling1D, AveragePooling2D, Input, Add\n",
        "from keras.models import Sequential\n",
        "from keras.optimizers import SGD\n",
        "from keras.preprocessing.image import ImageDataGenerator\n",
        "from sklearn.model_selection import train_test_split\n",
        "from google.colab import drive\n"
      ],
      "execution_count": 2,
      "outputs": []
    },
    {
      "cell_type": "code",
      "metadata": {
        "id": "nYZrypw12jdr"
      },
      "source": [
        "!pwd\n",
        "!ls"
      ],
      "execution_count": null,
      "outputs": []
    },
    {
      "cell_type": "code",
      "metadata": {
        "id": "-Jrpe3sB2kG3"
      },
      "source": [
        "drive.mount('/content/gdrive', force_remount=True)\n",
        "%cd gdrive/MyDrive/'CMPT 340 Project'/audio_and_txt_files\n"
      ],
      "execution_count": null,
      "outputs": []
    },
    {
      "cell_type": "code",
      "metadata": {
        "id": "Qh3P3v_O2ybL"
      },
      "source": [
        "path_to_audio_files = []\n",
        "for filename in glob.glob(os.path.join('', '*.wav')):\n",
        "    path_to_audio_files.append(filename)\n",
        "audio_files_data = pd.DataFrame(path_to_audio_files, columns = ['audio_file'])"
      ],
      "execution_count": 5,
      "outputs": []
    },
    {
      "cell_type": "code",
      "metadata": {
        "id": "XPVBLoP93AdT"
      },
      "source": [
        "# uncomment if you want to drop files with freq < 44100\n",
        "\n",
        "to_drop = []\n",
        "audio_files_data['audio_file']\n",
        "count=0\n",
        "for file_name in audio_files_data['audio_file']:\n",
        "  with wave.open(file_name, \"rb\") as wave_file:\n",
        "        frame_rate = wave_file.getframerate()\n",
        "        if(frame_rate != 44100):\n",
        "          to_drop.append(file_name)\n",
        "\n",
        "for file_name in to_drop:\n",
        "      audio_files_data = audio_files_data[audio_files_data.audio_file != file_name]"
      ],
      "execution_count": null,
      "outputs": []
    },
    {
      "cell_type": "code",
      "metadata": {
        "id": "SJxk8ZuK3Dci"
      },
      "source": [
        "unique_vals = []\n",
        "for i in audio_files_data['audio_file'].array:\n",
        "  unique_vals.append(i[0:3])"
      ],
      "execution_count": null,
      "outputs": []
    },
    {
      "cell_type": "code",
      "metadata": {
        "id": "6gEQBEoU3Pgd"
      },
      "source": [
        "diagnosis =  '101 102 103 104 105 106 107 108 109 110 111 112 113 114 115 116 117 118 119 120 121 122 123 124 125 126 127 128 129 130 131 132 133 134 135 136 137 138 139 140 141 142 143 144 145 146 147 148 149 150 151 152 153 154 155 156 157 158 159 160 161 162 163 164 165 166 167 168 169 170 171 172 173 174 175 176 177 178 179 180 181 182 183 184 185 186 187 188 189 190 191 192  193 194 195 196 197 198 199 200 201 202 203 204 205 206 207 208 209 210 211 212 213 214 215 216 217 218 219 220 221 222 223 224 225 226'.split()"
      ],
      "execution_count": null,
      "outputs": []
    },
    {
      "cell_type": "code",
      "metadata": {
        "id": "8cUHO81t3aJM"
      },
      "source": [
        "for d in diagnosis:# make folders acc to diagnosis number\n",
        "    pathlib.Path(f'/content/gdrive/MyDrive/CMPT 340 Project/image_data/{d}').mkdir(parents=True, exist_ok=True) "
      ],
      "execution_count": null,
      "outputs": []
    },
    {
      "cell_type": "code",
      "metadata": {
        "id": "zfULmL8M3c9E"
      },
      "source": [
        "for filename in audio_files_data.audio_file:\n",
        "        print(filename)\n",
        "        y, sr = librosa.load(filename, mono=True, duration=5)\n",
        "        plt.specgram(y, NFFT=2048, Fs=2, Fc=0, noverlap=128, sides='default', mode='default', scale='dB');\n",
        "        plt.axis('off');\n",
        "        plt.savefig(f'/content/gdrive/MyDrive/CMPT 340 Project/image_data/{filename[:3]}/{filename[:-4]}.png')\n",
        "        plt.clf()"
      ],
      "execution_count": null,
      "outputs": []
    },
    {
      "cell_type": "code",
      "metadata": {
        "id": "A6J2kqPE3c_j"
      },
      "source": [
        "splitfolders.ratio('/content/gdrive/MyDrive/CMPT 340 Project/image_data', output=\"/content/gdrive/MyDrive/CMPT 340 Project/data\", seed=1337, ratio=(.8, .2))"
      ],
      "execution_count": null,
      "outputs": []
    },
    {
      "cell_type": "code",
      "metadata": {
        "id": "1J_C8RfS3dBq"
      },
      "source": [
        "train_datagen = ImageDataGenerator(\n",
        "        rescale=1./255, \n",
        "        shear_range=0.2, \n",
        "        zoom_range=0.2, \n",
        "        horizontal_flip=True)\n",
        "\n",
        "test_datagen = ImageDataGenerator(\n",
        "        rescale=1./255, \n",
        "        shear_range=0.2, \n",
        "        zoom_range=0.2, \n",
        "        horizontal_flip=True)"
      ],
      "execution_count": null,
      "outputs": []
    },
    {
      "cell_type": "code",
      "metadata": {
        "id": "MXILxJyU3dDg"
      },
      "source": [
        "training_set = train_datagen.flow_from_directory(\n",
        "        '/content/gdrive/MyDrive/CMPT 340 Project/data/train',\n",
        "        target_size=(64, 64),\n",
        "        batch_size=1,\n",
        "        class_mode='categorical',\n",
        "        shuffle = False)\n",
        "\n",
        "test_set = test_datagen.flow_from_directory(\n",
        "        '/content/gdrive/MyDrive/CMPT 340 Project/data/val',\n",
        "        target_size=(64, 64),\n",
        "        batch_size=1,\n",
        "        class_mode='categorical',\n",
        "        shuffle = False )"
      ],
      "execution_count": null,
      "outputs": []
    },
    {
      "cell_type": "code",
      "metadata": {
        "id": "7KE5b1943dG_"
      },
      "source": [
        "model = Sequential()\n",
        "input_shape=(64, 64, 3)#1st hidden layer\n",
        "model.add(Conv2D(32, (3, 3), strides=(2, 2), input_shape=input_shape))\n",
        "model.add(AveragePooling2D((2, 2), strides=(2,2)))\n",
        "model.add(Activation('relu'))#2nd hidden layer\n",
        "model.add(Conv2D(64, (3, 3), padding=\"same\"))\n",
        "model.add(AveragePooling2D((2, 2), strides=(2,2)))\n",
        "model.add(Activation('relu'))#3rd hidden layer\n",
        "model.add(Conv2D(64, (3, 3), padding=\"same\"))\n",
        "model.add(AveragePooling2D((2, 2), strides=(2,2)))\n",
        "model.add(Activation('relu'))#Flatten\n",
        "model.add(Flatten())\n",
        "model.add(Dropout(rate=0.5))#Add fully connected layer.\n",
        "model.add(Dense(64))\n",
        "model.add(Activation('relu'))\n",
        "model.add(Dropout(rate=0.5))#Output layer\n",
        "model.add(Dense(126))\n",
        "model.add(Activation('softmax'))\n",
        "model.summary()"
      ],
      "execution_count": null,
      "outputs": []
    },
    {
      "cell_type": "code",
      "metadata": {
        "id": "tTmxZl1t32_h"
      },
      "source": [
        "epochs = 255\n",
        "batch_size = 8\n",
        "learning_rate = 0.01\n",
        "decay_rate = learning_rate / epochs\n",
        "momentum = 0.9\n",
        "sgd = SGD(lr=learning_rate, momentum=momentum, decay=decay_rate, nesterov=False)\n",
        "model.compile(optimizer=\"sgd\", loss=\"categorical_crossentropy\", metrics=['accuracy'])"
      ],
      "execution_count": null,
      "outputs": []
    },
    {
      "cell_type": "code",
      "metadata": {
        "id": "ZbEmnODe33CI"
      },
      "source": [
        "model.fit(\n",
        "        training_set,\n",
        "        steps_per_epoch=31,\n",
        "        epochs=21,\n",
        "        validation_data=test_set,\n",
        "        validation_steps=165)"
      ],
      "execution_count": null,
      "outputs": []
    },
    {
      "cell_type": "code",
      "metadata": {
        "id": "lw2_w4ax33Eb"
      },
      "source": [
        "model.evaluate_generator(generator=test_set, steps=50)"
      ],
      "execution_count": null,
      "outputs": []
    }
  ]
}